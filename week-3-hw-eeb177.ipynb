{
 "cells": [
  {
   "cell_type": "markdown",
   "metadata": {},
   "source": [
    "# Question 1\n",
    "\n",
    "a) The levels of individual 3 were measured 61 times \n",
    "```\n",
    "cut -f 1 Gesquiere2011_data.csv | grep -c -w 3\n",
    "``` \n",
    "The levels of individual 27 were measured 5 times \n",
    "```\n",
    "cut -f 1 Gesquiere2011_data.csv | grep -c -w 27\n",
    "```\n",
    "\n",
    "b) FILE is file name and $ID is maleID. Save script as id_records.sh \n",
    "\n",
    "```\n",
    "cut -f 1 $FILE | grep -c -w $ID \n",
    "```\n",
    "\n",
    "c) using a for loop and previous script (id_records.sh)\n",
    "```\n",
    "ID='tail -n +2 Gesquiere2011_data.csv | cut -f 1 | sort -n | uniq'\n",
    "for male_id in $ID\n",
    "do\n",
    "    count=`bash id_records.sh Gesquiere2011_data.csv $male_id`\n",
    "    echo \"ID:\" $male_id \"counts:\" $count\n",
    "done\n",
    "```"
   ]
  },
  {
   "cell_type": "markdown",
   "metadata": {},
   "source": [
    "# Question 2\n",
    "\n",
    "a) Command is shown below\n",
    "```\n",
    "echo \"File:\"\n",
    "echo $1\n",
    "echo \"Number of rows:\"\n",
    "cat $1 | wc -l\n",
    "echo \"Number of columns:\"\n",
    "head -n 1 $1 | tr -d ' ' | tr -d '\\n' | wc -c\n",
    "```\n",
    "\n",
    "b) Command is shown below\n",
    "``` \n",
    "FILES=~/Desktop/eeb177/CSB/unix/data/Saavedra2013/*.txt\n",
    "for file in $FILES \n",
    "do\n",
    "    row=`cat $file | wc -l`\n",
    "    column=`head -n 1 $file | tr -d ' ' | tr -d '\\n' | wc -c`\n",
    "    echo $file $row $column\n",
    "done\n",
    "```\n",
    "\n",
    "c) n58.txt has 678 rows using command:\n",
    "```\n",
    "size_all.sh | sort -n -k 2 -r | head -n 1\n",
    "```\n",
    "   n56.txt has 207 columns using command:\n",
    "```\n",
    "size_all.sh | sort -n -k 3 -r | head -n 1\n",
    "```"
   ]
  },
  {
   "cell_type": "markdown",
   "metadata": {
    "collapsed": true
   },
   "source": [
    "# Question 3"
   ]
  },
  {
   "cell_type": "code",
   "execution_count": 1,
   "metadata": {
    "collapsed": false
   },
   "outputs": [
    {
     "name": "stdout",
     "output_type": "stream",
     "text": [
      "AT content is: 0.6851851851851852\n"
     ]
    }
   ],
   "source": [
    "dna = \"ACTGATCGATTACGTATAGTATTTGCTATCATACATATATATCGATGCGTTCAT\"\n",
    "\n",
    "#Calculating AT content\n",
    "length = len(dna)\n",
    "a_content = dna.count('A')\n",
    "t_content = dna.count('T')\n",
    "at_content = (a_content + t_content)/length\n",
    "\n",
    "print(\"AT content is: \" + str(at_content))\n"
   ]
  },
  {
   "cell_type": "markdown",
   "metadata": {
    "collapsed": true
   },
   "source": [
    "# Question 4"
   ]
  },
  {
   "cell_type": "code",
   "execution_count": 2,
   "metadata": {
    "collapsed": false
   },
   "outputs": [
    {
     "name": "stdout",
     "output_type": "stream",
     "text": [
      "mass = 47.5\n",
      "age = 122\n",
      "mass = 95.0\n",
      "age = 102\n"
     ]
    }
   ],
   "source": [
    "# Check your understanding\n",
    "\n",
    "mass = 47.5\n",
    "print(\"mass =\", mass)\n",
    "age = 122\n",
    "print(\"age =\", age)\n",
    "mass = mass * 2.0\n",
    "print(\"mass =\", mass)\n",
    "age = age - 20\n",
    "print(\"age =\", age)"
   ]
  },
  {
   "cell_type": "code",
   "execution_count": 3,
   "metadata": {
    "collapsed": false,
    "scrolled": true
   },
   "outputs": [
    {
     "name": "stdout",
     "output_type": "stream",
     "text": [
      "Hopper Grace\n"
     ]
    }
   ],
   "source": [
    "# Sorting out references\n",
    "\n",
    "first, second = 'Grace', 'Hopper'\n",
    "third, fourth = second, first\n",
    "print(third, fourth)\n",
    "\n",
    "# The command returns Hopper Grace"
   ]
  },
  {
   "cell_type": "code",
   "execution_count": 4,
   "metadata": {
    "collapsed": false
   },
   "outputs": [
    {
     "name": "stdout",
     "output_type": "stream",
     "text": [
      "oxyg\n",
      "en\n",
      "n\n",
      "e\n",
      "xyge\n"
     ]
    }
   ],
   "source": [
    "# Slicing strings\n",
    "\n",
    "element = 'oxygen'\n",
    "print(element[:4])\n",
    "# This command prints oxyg\n",
    "\n",
    "print(element[4:])\n",
    "# This command prints en\n",
    "\n",
    "print(element[-1])\n",
    "# This command prints n\n",
    "\n",
    "print(element[-2])\n",
    "# This command prints e\n",
    "\n",
    "print(element[1:-1])\n",
    "# This command prints xyge because it creates a substring starting after the first character and excludes the last character."
   ]
  },
  {
   "cell_type": "code",
   "execution_count": 5,
   "metadata": {
    "collapsed": true
   },
   "outputs": [],
   "source": [
    "# Thin slices\n",
    "\n",
    "# Commands data[3:3, 4:4] and data[3:3, :] would both result in an empty string []"
   ]
  },
  {
   "cell_type": "code",
   "execution_count": 12,
   "metadata": {
    "collapsed": false
   },
   "outputs": [
    {
     "data": {
      "image/png": "[encoded data removed]",
      "text/plain": [
       "<matplotlib.figure.Figure at 0x7f94b1b2dda0>"
      ]
     },
     "metadata": {},
     "output_type": "display_data"
    }
   ],
   "source": [
    "# Plot scaling\n",
    "\n",
    "# matplotlib automatically sets the maximum and minimum values according to the data\n",
    "\n",
    "# In order to obtain a more appropriate scale the following codes could be used. \n",
    "\n",
    "import numpy as np\n",
    "import matplotlib.pyplot\n",
    "\n",
    "data = np.loadtxt(fname='inflammation-01.csv', delimiter=',')\n",
    "\n",
    "fig = matplotlib.pyplot.figure(figsize=(10.0, 3.0))\n",
    "\n",
    "axes1 = fig.add_subplot(1, 3, 1)\n",
    "axes2 = fig.add_subplot(1, 3, 2)\n",
    "axes3 = fig.add_subplot(1, 3, 3)\n",
    "\n",
    "av_data = np.average(data, axis = 0)\n",
    "axes1.set_ylabel('average')\n",
    "axes1.plot(np.mean(data, axis=0))\n",
    "axes1.set_ylim(np.min(av_data), np.max(av_data) * 1.1)\n",
    "\n",
    "max_data = np.max(data, axis = 0)\n",
    "axes2.set_ylabel('max')\n",
    "axes2.plot(np.max(data, axis=0))\n",
    "axes2.set_ylim(np.min(max_data), np.max(max_data) * 1.1)\n",
    "\n",
    "min_data = np.min(data, axis = 0)\n",
    "axes3.set_ylabel('min')\n",
    "axes3.plot(np.min(data, axis=0))\n",
    "axes3.set_ylim(np.min(min_data), np.max(min_data) * 1.1)\n",
    "\n",
    "fig.tight_layout()\n",
    "\n",
    "matplotlib.pyplot.show()"
   ]
  },
  {
   "cell_type": "code",
   "execution_count": 7,
   "metadata": {
    "collapsed": true
   },
   "outputs": [],
   "source": [
    "# Drawing straight lines\n",
    "\n",
    "# matplotlib takes the average values between points, thereby generating a straight line.\n",
    "\n",
    "import numpy\n",
    "import matplotlib.pyplot\n",
    "\n",
    "data = numpy.loadtxt(fname='inflammation-01.csv', delimiter=',')\n",
    "\n",
    "fig = matplotlib.pyplot.figure(figsize=(10.0, 3.0))\n",
    "\n",
    "axes1 = fig.add_subplot(1, 3, 1)\n",
    "axes2 = fig.add_subplot(1, 3, 2)\n",
    "axes3 = fig.add_subplot(1, 3, 3)\n",
    "\n",
    "axes1.set_ylabel('average')\n",
    "axes1.plot(numpy.mean(data, axis=0), drawstyle='steps-mid')\n",
    "\n",
    "axes2.set_ylabel('max')\n",
    "axes2.plot(numpy.max(data, axis=0), drawstyle='steps-mid')\n",
    "\n",
    "axes3.set_ylabel('min')\n",
    "axes3.plot(numpy.min(data, axis=0), drawstyle='steps-mid')\n",
    "\n",
    "fig.tight_layout()\n",
    "\n",
    "matplotlib.pyplot.show()"
   ]
  },
  {
   "cell_type": "code",
   "execution_count": 15,
   "metadata": {
    "collapsed": false
   },
   "outputs": [
    {
     "data": {
      "image/png": "[encoded data removed]",
      "text/plain": [
       "<matplotlib.figure.Figure at 0x7f94b1b49cf8>"
      ]
     },
     "metadata": {},
     "output_type": "display_data"
    }
   ],
   "source": [
    "# Your own plot \n",
    "\n",
    "max_plot = matplotlib.pyplot.plot(numpy.std(data, axis=0))\n",
    "matplotlib.pyplot.show()\n",
    "\n"
   ]
  },
  {
   "cell_type": "code",
   "execution_count": 16,
   "metadata": {
    "collapsed": false
   },
   "outputs": [
    {
     "data": {
      "image/png": "[encoded data removed]",
      "text/plain": [
       "<matplotlib.figure.Figure at 0x7f94d81d8a20>"
      ]
     },
     "metadata": {},
     "output_type": "display_data"
    }
   ],
   "source": [
    "# Moving plots\n",
    "\n",
    "import numpy as np\n",
    "import matplotlib.pyplot\n",
    "\n",
    "data = np.loadtxt(fname='inflammation-01.csv', delimiter=',')\n",
    "\n",
    "# figure size\n",
    "fig = matplotlib.pyplot.figure(figsize=(3.0, 10.0))\n",
    "\n",
    "# adding sublots\n",
    "axes1 = fig.add_subplot(3, 1, 1)\n",
    "axes2 = fig.add_subplot(3, 1, 2)\n",
    "axes3 = fig.add_subplot(3, 1, 3)\n",
    "\n",
    "axes1.set_ylabel('average')\n",
    "axes1.plot(np.mean(data, axis=0))\n",
    "\n",
    "axes2.set_ylabel('max')\n",
    "axes2.plot(np.max(data, axis=0))\n",
    "\n",
    "axes3.set_ylabel('min')\n",
    "axes3.plot(np.min(data, axis=0))\n",
    "\n",
    "fig.tight_layout()\n",
    "\n",
    "matplotlib.pyplot.show()"
   ]
  },
  {
   "cell_type": "code",
   "execution_count": 18,
   "metadata": {
    "collapsed": false
   },
   "outputs": [
    {
     "name": "stdout",
     "output_type": "stream",
     "text": [
      "A = \n",
      "[[1 2 3]\n",
      " [4 5 6]\n",
      " [7 8 9]]\n",
      "D = \n",
      "[[1 3]\n",
      " [4 6]\n",
      " [7 9]]\n"
     ]
    }
   ],
   "source": [
    "# Stacking arrays\n",
    "\n",
    "import numpy as np\n",
    "\n",
    "A = np.array([[1,2,3], [4,5,6], [7, 8, 9]])\n",
    "print('A = ')\n",
    "print(A)\n",
    "\n",
    "D = np.hstack((A[:, :1], A[:, -1:]))\n",
    "print('D = ')\n",
    "print(D)"
   ]
  },
  {
   "cell_type": "code",
   "execution_count": null,
   "metadata": {
    "collapsed": true
   },
   "outputs": [],
   "source": []
  }
 ],
 "metadata": {
  "anaconda-cloud": {},
  "kernelspec": {
   "display_name": "Python [default]",
   "language": "python",
   "name": "python3"
  },
  "language_info": {
   "codemirror_mode": {
    "name": "ipython",
    "version": 3
   },
   "file_extension": ".py",
   "mimetype": "text/x-python",
   "name": "python",
   "nbconvert_exporter": "python",
   "pygments_lexer": "ipython3",
   "version": "3.5.2"
  }
 },
 "nbformat": 4,
 "nbformat_minor": 2
}
