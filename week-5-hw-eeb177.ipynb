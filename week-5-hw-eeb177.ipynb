{
 "cells": [
  {
   "cell_type": "markdown",
   "metadata": {},
   "source": [
    "## Part 1"
   ]
  },
  {
   "cell_type": "markdown",
   "metadata": {},
   "source": [
    "### Continuation of in-class challenge\n",
    "\n",
    "** STEP 1: Download file in the terminal **\n",
    "\n",
    "Used wget to get the dataset:   \n",
    "```\n",
    "cd ~/Desktop/eeb177/class-assignments/\n",
    "wget \"www.nature.com/nature/journal/vaop/ncurrent/source_data/nature21074-f1.csv\"\n",
    "```"
   ]
  },
  {
   "cell_type": "markdown",
   "metadata": {},
   "source": [
    "**STEP 2a: See the contents of the file**\n",
    "\n",
    "Used head to see contents of file:\n",
    "\n",
    "```\n",
    "head nature21074-f1.csv\n",
    "```\n",
    "\n",
    "There is a problem with the end of line character.\n",
    "\n",
    "**STEP 2b: Change /r to /n and save as new file**\n",
    "\n",
    "```\n",
    "cat nature21074-f1.csv | tr \"\\r\" \"\\n\" > formatted_nature.csv\n",
    "```"
   ]
  },
  {
   "cell_type": "markdown",
   "metadata": {},
   "source": [
    "**Question 1. Find unique families**\n",
    "\n",
    "Used command \n",
    "```\n",
    "tail -n +4 formatted_nature.csv | cut -d \",\" -f 3 | sort | uniq | wc -l\n",
    "```\n",
    "***There are 194 unique families.*** "
   ]
  },
  {
   "cell_type": "markdown",
   "metadata": {},
   "source": [
    "**Question 2. Find family with the highest number of species**\n",
    "\n",
    "Using command\n",
    "```\n",
    "tail -n +4 formatted_nature.csv | cut -d \",\" -f 3 | sort | uniq -c | sort -n -r\n",
    "```\n",
    "\n",
    "***Trochilidae is the family with most species reported (102).***\n"
   ]
  },
  {
   "cell_type": "markdown",
   "metadata": {},
   "source": [
    "**Question 3. Find how many families only have one species.**\n",
    "\n",
    "Using command\n",
    "```\n",
    "tail -n +4 formatted_nature.csv | cut -d \",\" -f 3 | sort | uniq -c | grep -w \"1\" -c\n",
    "\n",
    "```\n",
    "\n",
    "***61 families only have one species.***"
   ]
  },
  {
   "cell_type": "markdown",
   "metadata": {},
   "source": [
    "**Question 4. Working with eBird data, how many families are present?**\n",
    "\n",
    "**Step 1. Download the data**\n",
    "\n",
    "```\n",
    "wget \"https://goo.gl/9FYj9a\" > eBird.csv\n",
    "```\n",
    "\n",
    "Using command\n",
    "\n",
    "```\n",
    "tail -n +2 eBird.csv | cut -d \",\" -f 8 eBird.csv | sort | uniq | wc -l\n",
    "```\n",
    "\n",
    "***There are 240 unique families.*** "
   ]
  },
  {
   "cell_type": "markdown",
   "metadata": {},
   "source": [
    "**Question 5. How many species are in each family of the eBird data?**\n",
    "\n",
    "Using command\n",
    "```\n",
    "tail -n +2 eBird.csv | cut -d \",\" -f 8 | sort | uniq -c | sort -n\n",
    "```\n",
    "\n",
    "we get the number of species in each family. The list is long"
   ]
  }
 ],
 "metadata": {
  "anaconda-cloud": {},
  "kernelspec": {
   "display_name": "Python [conda root]",
   "language": "python",
   "name": "conda-root-py"
  },
  "language_info": {
   "codemirror_mode": {
    "name": "ipython",
    "version": 3
   },
   "file_extension": ".py",
   "mimetype": "text/x-python",
   "name": "python",
   "nbconvert_exporter": "python",
   "pygments_lexer": "ipython3",
   "version": "3.5.2"
  }
 },
 "nbformat": 4,
 "nbformat_minor": 2
}
