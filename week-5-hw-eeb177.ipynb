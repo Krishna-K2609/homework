{
 "cells": [
  {
   "cell_type": "markdown",
   "metadata": {},
   "source": [
    "# Part 1"
   ]
  },
  {
   "cell_type": "markdown",
   "metadata": {},
   "source": [
    "### Continuation of in-class challenge\n",
    "\n",
    "** STEP 1: Download file in the terminal **\n",
    "\n",
    "Used wget to get the dataset:   \n",
    "```\n",
    "cd ~/Desktop/eeb177/class-assignments/\n",
    "wget \"www.nature.com/nature/journal/vaop/ncurrent/source_data/nature21074-f1.csv\"\n",
    "```"
   ]
  },
  {
   "cell_type": "markdown",
   "metadata": {},
   "source": [
    "**STEP 2a: See the contents of the file**\n",
    "\n",
    "Used head to see contents of file:\n",
    "\n",
    "```\n",
    "head nature21074-f1.csv\n",
    "```\n",
    "\n",
    "There is a problem with the end of line character.\n",
    "\n",
    "**STEP 2b: Change /r to /n and save as new file**\n",
    "\n",
    "```\n",
    "cat nature21074-f1.csv | tr \"\\r\" \"\\n\" > formatted_nature.csv\n",
    "```"
   ]
  },
  {
   "cell_type": "markdown",
   "metadata": {},
   "source": [
    "**Question 1. Find unique families**\n",
    "\n",
    "Used command \n",
    "```\n",
    "tail -n +4 formatted_nature.csv | cut -d \",\" -f 3 | sort | uniq | wc -l\n",
    "```\n",
    "***There are 194 unique families.*** "
   ]
  },
  {
   "cell_type": "markdown",
   "metadata": {},
   "source": [
    "**Question 2. Find family with the highest number of species**\n",
    "\n",
    "Using command\n",
    "```\n",
    "tail -n +4 formatted_nature.csv | cut -d \",\" -f 3 | sort | uniq -c | sort -n -r\n",
    "```\n",
    "\n",
    "***Trochilidae is the family with most species reported (102).***\n"
   ]
  },
  {
   "cell_type": "markdown",
   "metadata": {},
   "source": [
    "**Question 3. Find how many families only have one species.**\n",
    "\n",
    "Using command\n",
    "```\n",
    "tail -n +4 formatted_nature.csv | cut -d \",\" -f 3 | sort | uniq -c | grep -w \"1\" -c\n",
    "\n",
    "```\n",
    "\n",
    "***60 families only have one species.***"
   ]
  },
  {
   "cell_type": "markdown",
   "metadata": {},
   "source": [
    "**Question 4. Working with eBird data, how many families are present?**\n",
    "\n",
    "**Step 1. Download the data**\n",
    "\n",
    "```\n",
    "wget \"https://goo.gl/9FYj9a\" > eBird.csv\n",
    "```\n",
    "\n",
    "Using command\n",
    "\n",
    "```\n",
    "tail -n +2 eBird.csv | cut -d \",\" -f 8 | sort | uniq | wc -l\n",
    "```\n",
    "\n",
    "***There are 239 unique families.*** "
   ]
  },
  {
   "cell_type": "markdown",
   "metadata": {},
   "source": [
    "**Question 5. How many species are in each family of the eBird data?**\n",
    "\n",
    "Using command\n",
    "```\n",
    "tail -n +2 eBird.csv | cut -d \",\" -f 8 | sort | uniq -c | sort -n\n",
    "```\n",
    "\n",
    "we get the number of species in each family, sorted in ascending order by the number of species in each family. The full list is long and is not included here for practical reasons; a sample is included instead. The first number indicates the number of species, and the Family is reported in the second column.\n",
    "\n",
    "    203 Rallidae (Rails)\n",
    "    206 Cuculidae (Cuckoos)\n",
    "    208 Meliphagidae (Honeyeaters)\n",
    "    209 Laridae (Gulls)\n",
    "    222 Cisticolidae (Cisticolas and Allies)\n",
    "    226 Psittaculidae (Old World Parrots)\n",
    "    228 Parulidae (New World Warblers)\n",
    "    240 Phasianidae (Pheasants)\n",
    "    251 Psittacidae (New World and African Parrots)\n",
    "    295 Turdidae (Thrushes and Allies)\n",
    "    298 Thamnophilidae (Typical Antbirds)\n",
    "    318 Emberizidae (Buntings and New World Sparrows)\n",
    "    318 Strigidae (Owls)\n",
    "    325 Fringillidae (Finches)\n",
    "    364 Anatidae (Ducks)\n",
    "    370 Picidae (Woodpeckers)\n",
    "    386 Accipitridae (Hawks)\n",
    "    425 Columbidae (Pigeons and Doves)\n",
    "    452 Furnariidae (Ovenbirds and Woodcreepers)\n",
    "    457 Muscicapidae (Old World Flycatchers)\n",
    "    472 Trochilidae (Hummingbirds)\n",
    "    505 Thraupidae (Tanagers and Allies)\n",
    "    617 Tyrannidae (Tyrant Flycatchers)\n"
   ]
  },
  {
   "cell_type": "markdown",
   "metadata": {},
   "source": [
    "## Part 2 | Bird data in Python"
   ]
  },
  {
   "cell_type": "code",
   "execution_count": 14,
   "metadata": {
    "collapsed": false
   },
   "outputs": [],
   "source": [
    "# Question 1. Create a dictionary where the keys are species and values are families.\n",
    "# Then write a loop that will give the output \"Species XX belongs to family YY\".\n",
    "\n",
    "# Step 1. Read data. We need to import the csv module\n",
    "import csv\n",
    "\n",
    "#Step 2. Create a dictionary for species and family. I created a simpler version of the nature data that only \n",
    "#lists species and families in the shell.\n",
    "reader = csv.reader(open(\"/home/eeb177-student/Desktop/eeb177/class-assignments/naturesimple.csv\", \"r\"))\n",
    "d = {}\n",
    "for row in reader:\n",
    "   k, v = row\n",
    "   d[k] = v\n",
    "\n",
    "# for i in d:\n",
    "#     print(\"Species \" + str(i) + \" belongs to Family \" + str(d[i]))\n",
    "#     print(\"\\n\") # adding break for legibility\n",
    "\n",
    "# The loop works; in the interest of simplicity, the program is not executed, but it can be executed by selecting the three\n",
    "# command lines and typing Ctrl+/ to remove the hashtags."
   ]
  },
  {
   "cell_type": "code",
   "execution_count": 16,
   "metadata": {
    "collapsed": false,
    "scrolled": true
   },
   "outputs": [],
   "source": [
    "# Question 2. Repeat for eBird data\n",
    "\n",
    "# Step 1. Read data. We need to import the csv module\n",
    "import csv\n",
    "\n",
    "# Step 2. Create a dictionary for species and family. I created a simpler version of the eBird data that only \n",
    "#lists species and families.\n",
    "reader2 = csv.reader(open(\"/home/eeb177-student/Desktop/eeb177/class-assignments/eBird_simple.csv\", \"r\"))\n",
    "d = {}\n",
    "for row in reader2:\n",
    "   k, v = row\n",
    "   d[k] = v\n",
    "\n",
    "# for i in d:\n",
    "#     print(\"Species \" + str(i) + \" belongs to Family \" + str(d[i]))\n",
    "#     print(\"\\n\") # adding break for legibility"
   ]
  },
  {
   "cell_type": "code",
   "execution_count": 48,
   "metadata": {
    "collapsed": false
   },
   "outputs": [],
   "source": [
    "# Question 3. Write another loop that reports the number of species in each family in the ebird data set with this output \n",
    "# \"There are XX total species in Family YY\"\n",
    "\n",
    "from collections import Counter\n",
    "\n",
    "my_list = list(d.values())\n",
    "families = Counter(my_list)\n",
    "#print(families)\n",
    "families = (dict(families))\n",
    "# type(families)\n",
    "\n",
    "# for i in families:\n",
    "#     print(\"There are \" + str(families[i]) + \" total species in Family \" + str(i))\n",
    "\n",
    "# This works! But the list is long so it's not activated here."
   ]
  },
  {
   "cell_type": "markdown",
   "metadata": {},
   "source": [
    "## Part 3"
   ]
  },
  {
   "cell_type": "code",
   "execution_count": 16,
   "metadata": {
    "collapsed": false
   },
   "outputs": [],
   "source": [
    "# Percentage of amino acids, part one\n",
    "\n",
    "from __future__ import division\n",
    "\n",
    "protein = \"MSRSLLLRFLLFLLLLPPLP\"\n",
    "aa = \"R\"\n",
    "\n",
    "def get_aa_percent(protein, aa):\n",
    "    # need to convert both inputs to upper case\n",
    "    protein = protein.upper()\n",
    "    aa = aa.upper()\n",
    "    aa_count = protein.count(aa)\n",
    "    protein_length = len(protein)\n",
    "    percent = (aa_count * 100) / protein_length\n",
    "    return percent\n",
    "\n",
    "assert get_aa_percent(\"MSRSLLLRFLLFLLLLPPLP\", \"M\") == 5\n",
    "assert get_aa_percent(\"MSRSLLLRFLLFLLLLPPLP\", \"r\") == 10\n",
    "assert get_aa_percent(\"msrslllrfllfllllpplp\", \"L\") == 50\n",
    "assert get_aa_percent(\"MSRSLLLRFLLFLLLLPPLP\", \"Y\") == 0"
   ]
  },
  {
   "cell_type": "code",
   "execution_count": 16,
   "metadata": {
    "collapsed": false
   },
   "outputs": [],
   "source": [
    "# Percentage of amino acids, part two\n",
    "\n",
    "protein = \"MSRSLLLRFLLFLLLLPPLP\"\n",
    "a_list = [\"M\", \"L\", \"F\"]\n",
    "\n",
    "def get_a_percent(protein, a_list = [\"A\", \"I\", \"L\", \"M\", \"F\", \"W\", \"Y\", \"V\"]):\n",
    "    protein = protein.upper()\n",
    "    protein_length = len(protein)\n",
    "    # total will hold total number of matching residues\n",
    "    total = 0\n",
    "    # need a for loop\n",
    "    for a in a_list:\n",
    "        a = a.upper()\n",
    "        a_count = protein.count(a)\n",
    "        #adding the number of residue to variable \"total\"\n",
    "        total = total + a_count\n",
    "    percent = (total * 100) / protein_length\n",
    "    return percent\n",
    "\n",
    "assert get_a_percent(\"MSRSLLLRFLLFLLLLPPLP\", [\"M\"]) == 5\n",
    "assert get_a_percent(\"MSRSLLLRFLLFLLLLPPLP\", [\"M\", \"L\"]) == 55\n",
    "assert get_a_percent(\"MSRSLLLRFLLFLLLLPPLP\", [\"F\", \"S\", \"L\"]) == 70\n",
    "assert get_a_percent(\"MSRSLLLRFLLFLLLLPPLP\") == 65\n",
    "\n",
    "# all assertions passed"
   ]
  },
  {
   "cell_type": "code",
   "execution_count": null,
   "metadata": {
    "collapsed": true
   },
   "outputs": [],
   "source": []
  }
 ],
 "metadata": {
  "anaconda-cloud": {},
  "kernelspec": {
   "display_name": "Python [conda root]",
   "language": "python",
   "name": "conda-root-py"
  },
  "language_info": {
   "codemirror_mode": {
    "name": "ipython",
    "version": 3
   },
   "file_extension": ".py",
   "mimetype": "text/x-python",
   "name": "python",
   "nbconvert_exporter": "python",
   "pygments_lexer": "ipython3",
   "version": "3.5.2"
  }
 },
 "nbformat": 4,
 "nbformat_minor": 2
}
