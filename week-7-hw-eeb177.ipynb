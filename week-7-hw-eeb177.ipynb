{
 "cells": [
  {
   "cell_type": "markdown",
   "metadata": {},
   "source": [
    "## My favorite fish\n",
    "\n",
    "### Scientific name: Iguanodectes adujai\n",
    "Dangerous: harmless   \n",
    "Weight: Noneg   \n",
    "Use in aquaculture: never/rarely   \n",
    "\n",
    "### Scientific name: Heteropneustes fossilis\n",
    "Dangerous: traumatogenic   \n",
    "Weight: Noneg   \n",
    "Use in aquaculture: commercial   \n",
    "\n",
    "### Scientific name: Gymnarchus niloticus\n",
    "Dangerous: harmless   \n",
    "Weight: 18500.0g   \n",
    "Use in aquaculture: never/rarely\n",
    "\n",
    "\n",
    "### Scientific name: Makaira mazara\n",
    "Dangerous: harmless   \n",
    "Weight: 170000.0g   \n",
    "Use in aquaculture: never/rarely\n",
    "\n",
    "### Scientific name: Kajikia audax\n",
    "Dangerous: harmless   \n",
    "Weight: 440000.0g   \n",
    "Use in aquaculture: never/rarely\n",
    "\n",
    "** NOTE: I actually don't know much about fish, so I chose some fish randomly for this assignment **"
   ]
  },
  {
   "cell_type": "code",
   "execution_count": 39,
   "metadata": {
    "collapsed": false
   },
   "outputs": [],
   "source": [
    "# import modules\n",
    "import urllib.request\n",
    "import json\n",
    "\n",
    "# we can create a function that will generate the information we are interested in.\n",
    "def parser(api_url):\n",
    "    raw_json = urllib.request.urlopen(api_url)\n",
    "    decoded_json = raw_json.read().decode('utf-8')\n",
    "    parsed_json = json.loads(decoded_json)\n",
    "    raw_json.close()\n",
    "#     print(parsed_json[\"data\"][0].keys())\n",
    "    my_dict = parsed_json[\"data\"][0]\n",
    "    print(\"Scientific name: \" + my_dict[\"Genus\"] + \" \" + my_dict[\"Species\"])\n",
    "    print(\"Dangerous: \" + my_dict[\"Dangerous\"])\n",
    "    print(\"Weight: \" + str(my_dict[\"Weight\"]) + \"g\")\n",
    "    print(\"Use in aquaculture: \" + my_dict[\"UsedforAquaculture\"])"
   ]
  },
  {
   "cell_type": "code",
   "execution_count": 47,
   "metadata": {
    "collapsed": false,
    "scrolled": true
   },
   "outputs": [
    {
     "name": "stdout",
     "output_type": "stream",
     "text": [
      "Scientific name: Iguanodectes adujai\n",
      "Dangerous: harmless\n",
      "Weight: Noneg\n",
      "Use in aquaculture: never/rarely\n",
      "Scientific name: Heteropneustes fossilis\n",
      "Dangerous: traumatogenic\n",
      "Weight: Noneg\n",
      "Use in aquaculture: commercial\n",
      "Scientific name: Gymnarchus niloticus\n",
      "Dangerous: harmless\n",
      "Weight: 18500.0g\n",
      "Use in aquaculture: never/rarely\n",
      "Scientific name: Makaira mazara\n",
      "Dangerous: harmless\n",
      "Weight: 170000.0g\n",
      "Use in aquaculture: never/rarely\n",
      "Scientific name: Kajikia audax\n",
      "Dangerous: harmless\n",
      "Weight: 440000.0g\n",
      "Use in aquaculture: never/rarely\n"
     ]
    }
   ],
   "source": [
    "parser(\"http://fishbase.ropensci.org/species/?genus=Iguanodectes&species=adujai\")\n",
    "\n",
    "parser(\"http://fishbase.ropensci.org/species/?genus=Heteropneustes&species=fossilis\")\n",
    "\n",
    "parser(\"http://fishbase.ropensci.org/species/?genus=Gymnarchus&species=niloticus\")\n",
    "\n",
    "parser(\"http://fishbase.ropensci.org/species/?genus=Makaira&species=mazara\")\n",
    "\n",
    "parser(\"http://fishbase.ropensci.org/species/?genus=Kajikia&species=audax\")\n"
   ]
  },
  {
   "cell_type": "code",
   "execution_count": null,
   "metadata": {
    "collapsed": true
   },
   "outputs": [],
   "source": []
  },
  {
   "cell_type": "code",
   "execution_count": null,
   "metadata": {
    "collapsed": true
   },
   "outputs": [],
   "source": []
  }
 ],
 "metadata": {
  "anaconda-cloud": {},
  "kernelspec": {
   "display_name": "Python [conda root]",
   "language": "python",
   "name": "conda-root-py"
  },
  "language_info": {
   "codemirror_mode": {
    "name": "ipython",
    "version": 3
   },
   "file_extension": ".py",
   "mimetype": "text/x-python",
   "name": "python",
   "nbconvert_exporter": "python",
   "pygments_lexer": "ipython3",
   "version": "3.5.2"
  }
 },
 "nbformat": 4,
 "nbformat_minor": 2
}
