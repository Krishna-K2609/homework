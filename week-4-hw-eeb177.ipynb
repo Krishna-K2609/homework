{
 "cells": [
  {
   "cell_type": "markdown",
   "metadata": {},
   "source": [
    "# Part I"
   ]
  },
  {
   "cell_type": "code",
   "execution_count": 3,
   "metadata": {
    "collapsed": false
   },
   "outputs": [
    {
     "name": "stdout",
     "output_type": "stream",
     "text": [
      "TGACTAGCTAATGCATATCATAAACGATAGTATGTATATATAGCTACGCAAGTA\n"
     ]
    }
   ],
   "source": [
    "# Complementing DNA\n",
    "\n",
    "dna = \"ACTGATCGATTACGTATAGTATTTGCTATCATACATATATATCGATGCGTTCAT\"\n",
    "\n",
    "replacement1 = dna.replace(\"A\", \"t\")\n",
    "replacement2 = replacement1.replace(\"T\", \"a\")\n",
    "replacement3 = replacement2.replace(\"C\", \"g\")\n",
    "replacement4 = replacement3.replace(\"G\", \"c\")\n",
    "print(replacement4.upper())\n"
   ]
  },
  {
   "cell_type": "code",
   "execution_count": 8,
   "metadata": {
    "collapsed": false
   },
   "outputs": [
    {
     "name": "stdout",
     "output_type": "stream",
     "text": [
      "Length of fragment one is 22\n",
      "Length of fragment two is 33\n"
     ]
    }
   ],
   "source": [
    "# Restriction fragment lengths\n",
    "\n",
    "dna = \"ACTGATCGATTACGTATAGTAGAATTCTATCATACATATATATCGATGCGTTCAT\"\n",
    "\n",
    "fragment1 = dna.find(\"GAATTC\") + 1\n",
    "fragment2 = len(dna) - fragment1\n",
    "print(\"Length of fragment one is \" + str(fragment1))\n",
    "print(\"Length of fragment two is \" + str(fragment2))\n"
   ]
  },
  {
   "cell_type": "code",
   "execution_count": 9,
   "metadata": {
    "collapsed": false
   },
   "outputs": [
    {
     "name": "stdout",
     "output_type": "stream",
     "text": [
      "ATCGATCGATCGATCGACTGACTAGTCATAGCTATGCATGTAGCTACTCGATCGATCGATCGATATCATCGATCGATATCGATGCATCGACTACTAT\n"
     ]
    }
   ],
   "source": [
    "# Splicing out introns, part 1\n",
    "\n",
    "genome = \"ATCGATCGATCGATCGACTGACTAGTCATAGCTATGCATGTAGCTACTCGATCGATCGATCGATC GATCGATCGATCGATCGATCATGCTATCATCGATCGATATCGATGCATCGACTACTAT\"\n",
    "exon1 = genome[0:64]\n",
    "exon2 = genome[91:] # note that genome[91:len(genome)] would also work here\n",
    "print(exon1 + exon2)"
   ]
  },
  {
   "cell_type": "code",
   "execution_count": 12,
   "metadata": {
    "collapsed": false
   },
   "outputs": [
    {
     "name": "stdout",
     "output_type": "stream",
     "text": [
      "78.2258064516129\n"
     ]
    }
   ],
   "source": [
    "# Splicing out introns, part 2\n",
    "\n",
    "code_length = len(exon1 + exon2)\n",
    "total_length = len(genome)\n",
    "print((code_length / len(genome))*100)"
   ]
  },
  {
   "cell_type": "code",
   "execution_count": 21,
   "metadata": {
    "collapsed": false
   },
   "outputs": [
    {
     "name": "stdout",
     "output_type": "stream",
     "text": [
      "ATCGATCGATCGATCGACTGACTAGTCATAGCTATGCATGTAGCTACTCGATCGATCGATCGATc gatcgatcgatcgatcgatcatgctATCATCGATCGATATCGATGCATCGACTACTAT\n"
     ]
    }
   ],
   "source": [
    "# Splicing out introns, part 3\n",
    "\n",
    "exon1 = genome[0:64]\n",
    "intron = genome[64:91].lower()\n",
    "exon2 = genome[91:]\n",
    "print(exon1 + intron + exon2)"
   ]
  },
  {
   "cell_type": "markdown",
   "metadata": {},
   "source": [
    "# Part II"
   ]
  },
  {
   "cell_type": "code",
   "execution_count": 23,
   "metadata": {
    "collapsed": false
   },
   "outputs": [
    {
     "name": "stdout",
     "output_type": "stream",
     "text": [
      "ATCGATCGATCGATCGACTGACTAGTCATAGCTATGCATGTAGCTACTCGATCGATCGATCGATCGATCGATCGATCGATCGATCATGCTATCATCGATCGATATCGATGCATCGACTACTAT\n",
      "\n"
     ]
    }
   ],
   "source": [
    "# Splitting genomic DNA\n",
    "dna_file = open(\"genomic_dna.txt\") #read file contents\n",
    "dna = dna_file.read()\n",
    "print(dna) # make sure the DNA code has been read by Python"
   ]
  },
  {
   "cell_type": "code",
   "execution_count": 24,
   "metadata": {
    "collapsed": false
   },
   "outputs": [
    {
     "name": "stdout",
     "output_type": "stream",
     "text": [
      "<_io.TextIOWrapper name='coding_dna.txt' mode='w' encoding='UTF-8'>\n"
     ]
    }
   ],
   "source": [
    "coding = open(\"coding_dna.txt\", \"w\") # open output file\n",
    "noncoding = open(\"noncoding_dna.txt\", \"w\") # open output file"
   ]
  },
  {
   "cell_type": "code",
   "execution_count": 25,
   "metadata": {
    "collapsed": false
   },
   "outputs": [
    {
     "data": {
      "text/plain": [
       "27"
      ]
     },
     "execution_count": 25,
     "metadata": {},
     "output_type": "execute_result"
    }
   ],
   "source": [
    "coding.write(exon1 + exon2)\n",
    "noncoding.write(intron)"
   ]
  },
  {
   "cell_type": "code",
   "execution_count": null,
   "metadata": {
    "collapsed": true
   },
   "outputs": [],
   "source": []
  }
 ],
 "metadata": {
  "anaconda-cloud": {},
  "kernelspec": {
   "display_name": "Python [conda root]",
   "language": "python",
   "name": "conda-root-py"
  },
  "language_info": {
   "codemirror_mode": {
    "name": "ipython",
    "version": 3
   },
   "file_extension": ".py",
   "mimetype": "text/x-python",
   "name": "python",
   "nbconvert_exporter": "python",
   "pygments_lexer": "ipython3",
   "version": "3.5.2"
  }
 },
 "nbformat": 4,
 "nbformat_minor": 2
}
