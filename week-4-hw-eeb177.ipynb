{
 "cells": [
  {
   "cell_type": "markdown",
   "metadata": {},
   "source": [
    "# Part I"
   ]
  },
  {
   "cell_type": "code",
   "execution_count": 1,
   "metadata": {
    "collapsed": false
   },
   "outputs": [
    {
     "name": "stdout",
     "output_type": "stream",
     "text": [
      "TGACTAGCTAATGCATATCATAAACGATAGTATGTATATATAGCTACGCAAGTA\n"
     ]
    }
   ],
   "source": [
    "# Complementing DNA\n",
    "\n",
    "dna = \"ACTGATCGATTACGTATAGTATTTGCTATCATACATATATATCGATGCGTTCAT\"\n",
    "\n",
    "replacement1 = dna.replace(\"A\", \"t\")\n",
    "replacement2 = replacement1.replace(\"T\", \"a\")\n",
    "replacement3 = replacement2.replace(\"C\", \"g\")\n",
    "replacement4 = replacement3.replace(\"G\", \"c\")\n",
    "print(replacement4.upper())\n"
   ]
  },
  {
   "cell_type": "code",
   "execution_count": 2,
   "metadata": {
    "collapsed": false
   },
   "outputs": [
    {
     "name": "stdout",
     "output_type": "stream",
     "text": [
      "Length of fragment one is 22\n",
      "Length of fragment two is 33\n"
     ]
    }
   ],
   "source": [
    "# Restriction fragment lengths\n",
    "\n",
    "dna = \"ACTGATCGATTACGTATAGTAGAATTCTATCATACATATATATCGATGCGTTCAT\"\n",
    "\n",
    "fragment1 = dna.find(\"GAATTC\") + 1\n",
    "fragment2 = len(dna) - fragment1\n",
    "print(\"Length of fragment one is \" + str(fragment1))\n",
    "print(\"Length of fragment two is \" + str(fragment2))\n"
   ]
  },
  {
   "cell_type": "code",
   "execution_count": 3,
   "metadata": {
    "collapsed": false
   },
   "outputs": [
    {
     "name": "stdout",
     "output_type": "stream",
     "text": [
      "ATCGATCGATCGATCGACTGACTAGTCATAGCTATGCATGTAGCTACTCGATCGATCGATCGATATCATCGATCGATATCGATGCATCGACTACTAT\n"
     ]
    }
   ],
   "source": [
    "# Splicing out introns, part 1\n",
    "\n",
    "genome = \"ATCGATCGATCGATCGACTGACTAGTCATAGCTATGCATGTAGCTACTCGATCGATCGATCGATC GATCGATCGATCGATCGATCATGCTATCATCGATCGATATCGATGCATCGACTACTAT\"\n",
    "exon1 = genome[0:64]\n",
    "exon2 = genome[91:] # note that genome[91:len(genome)] would also work here\n",
    "print(exon1 + exon2)"
   ]
  },
  {
   "cell_type": "code",
   "execution_count": 4,
   "metadata": {
    "collapsed": false
   },
   "outputs": [
    {
     "name": "stdout",
     "output_type": "stream",
     "text": [
      "78.2258064516129\n"
     ]
    }
   ],
   "source": [
    "# Splicing out introns, part 2\n",
    "\n",
    "code_length = len(exon1 + exon2)\n",
    "total_length = len(genome)\n",
    "print((code_length / len(genome))*100)"
   ]
  },
  {
   "cell_type": "code",
   "execution_count": 5,
   "metadata": {
    "collapsed": false
   },
   "outputs": [
    {
     "name": "stdout",
     "output_type": "stream",
     "text": [
      "ATCGATCGATCGATCGACTGACTAGTCATAGCTATGCATGTAGCTACTCGATCGATCGATCGATc gatcgatcgatcgatcgatcatgctATCATCGATCGATATCGATGCATCGACTACTAT\n"
     ]
    }
   ],
   "source": [
    "# Splicing out introns, part 3\n",
    "\n",
    "exon1 = genome[0:64]\n",
    "intron = genome[64:91].lower()\n",
    "exon2 = genome[91:]\n",
    "print(exon1 + intron + exon2)"
   ]
  },
  {
   "cell_type": "markdown",
   "metadata": {},
   "source": [
    "# Part II"
   ]
  },
  {
   "cell_type": "code",
   "execution_count": 6,
   "metadata": {
    "collapsed": false
   },
   "outputs": [
    {
     "name": "stdout",
     "output_type": "stream",
     "text": [
      "ATCGATCGATCGATCGACTGACTAGTCATAGCTATGCATGTAGCTACTCGATCGATCGATCGATCGATCGATCGATCGATCGATCATGCTATCATCGATCGATATCGATGCATCGACTACTAT\n",
      "\n"
     ]
    }
   ],
   "source": [
    "# Splitting genomic DNA\n",
    "dna_file = open(\"genomic_dna.txt\") #read file contents\n",
    "dna = dna_file.read()\n",
    "print(dna) # make sure the DNA code has been read by Python"
   ]
  },
  {
   "cell_type": "code",
   "execution_count": 7,
   "metadata": {
    "collapsed": false
   },
   "outputs": [],
   "source": [
    "coding = open(\"coding_dna.txt\", \"w\") # open output file\n",
    "noncoding = open(\"noncoding_dna.txt\", \"w\") # open output file"
   ]
  },
  {
   "cell_type": "code",
   "execution_count": 8,
   "metadata": {
    "collapsed": false
   },
   "outputs": [
    {
     "data": {
      "text/plain": [
       "27"
      ]
     },
     "execution_count": 8,
     "metadata": {},
     "output_type": "execute_result"
    }
   ],
   "source": [
    "coding.write(exon1 + exon2) # write sequence to output file\n",
    "noncoding.write(intron)"
   ]
  },
  {
   "cell_type": "code",
   "execution_count": 10,
   "metadata": {
    "collapsed": false
   },
   "outputs": [
    {
     "name": "stdout",
     "output_type": "stream",
     "text": [
      ">ABC123\n",
      "ATCGTACGATCGATCGATCGCTAGACGTATCG\n",
      ">DEF456\n",
      "ACTGATCGACGATCGATCGATCACGACT\n",
      ">HIJ789\n",
      "ACTGACACTGTACTGTACATGTG\n"
     ]
    },
    {
     "data": {
      "text/plain": [
       "32"
      ]
     },
     "execution_count": 10,
     "metadata": {},
     "output_type": "execute_result"
    }
   ],
   "source": [
    "# Writing a FASTA file\n",
    "\n",
    "# creating title holders\n",
    "aa = \"ABC123\"\n",
    "bb = \"DEF456\"\n",
    "cc = \"HIJ789\"\n",
    "\n",
    "# creating sequences\n",
    "seq_1 = \"ATCGTACGATCGATCGATCGCTAGACGTATCG\"\n",
    "seq_2 = \"actgatcgacgatcgatcgatcacgact\"\n",
    "seq_3 = \"ACTGAC-ACTGT--ACTGTA----CATGTG\"\n",
    "\n",
    "print('>' + aa + '\\n' + seq_1) # verifying that data are displayed correctly\n",
    "print('>' + bb + '\\n' + seq_2.upper())\n",
    "print('>' + cc + '\\n' + seq_3.replace(\"-\", \"\"))\n",
    "\n",
    "fasta_file = open(\"sequences.fasta\", \"w\")\n",
    "fasta_file.write('>' + aa + '\\n' + seq_1 + '\\n') # adding \\n to add a break between lines\n",
    "fasta_file.write('>' + bb + '\\n' + seq_2.upper() + '\\n')\n",
    "fasta_file.write('>' + cc + '\\n' + seq_3.replace(\"-\", \"\") + '\\n')"
   ]
  },
  {
   "cell_type": "code",
   "execution_count": 12,
   "metadata": {
    "collapsed": false
   },
   "outputs": [
    {
     "data": {
      "text/plain": [
       "32"
      ]
     },
     "execution_count": 12,
     "metadata": {},
     "output_type": "execute_result"
    }
   ],
   "source": [
    "# Writing multiple FASTA files\n",
    "\n",
    "# creating title holders\n",
    "aa = \"ABC123\"\n",
    "bb = \"DEF456\"\n",
    "cc = \"HIJ789\"\n",
    "\n",
    "# creating sequences\n",
    "seq_1 = \"ATCGTACGATCGATCGATCGCTAGACGTATCG\"\n",
    "seq_2 = \"actgatcgacgatcgatcgatcacgact\"\n",
    "seq_3 = \"ACTGAC-ACTGT--ACTGTA----CATGTG\"\n",
    "\n",
    "# creating files to hold the output\n",
    "file1 = open(aa + \".fasta\", \"w\")\n",
    "file2 = open(bb + \".fasta\", \"w\")\n",
    "file3 = open(cc + \".fasta\", \"w\")\n",
    "\n",
    "# each file contains only one sequence\n",
    "file1.write('>' + aa + '\\n' + seq_1 + '\\n')\n",
    "file2.write('>' + bb + '\\n' + seq_2.upper() + '\\n')\n",
    "file3.write('>' + cc + '\\n' + seq_3.replace(\"-\", \"\") + '\\n')"
   ]
  },
  {
   "cell_type": "markdown",
   "metadata": {},
   "source": [
    "# Part III"
   ]
  },
  {
   "cell_type": "code",
   "execution_count": 20,
   "metadata": {
    "collapsed": false
   },
   "outputs": [
    {
     "name": "stdout",
     "output_type": "stream",
     "text": [
      "processed sequence with length 43\n",
      "processed sequence with length 38\n",
      "processed sequence with length 49\n",
      "processed sequence with length 34\n",
      "processed sequence with length 47\n"
     ]
    }
   ],
   "source": [
    "# Processing DNA in a file\n",
    "\n",
    "file = open(\"input.txt\")\n",
    "output = open(\"processed_dna.txt\", \"w\") # need to create new file before the for loop! This is similar to gedit in the terminal.\n",
    "for dna in file: \n",
    "    last_value = len(dna)\n",
    "    processed_dna = dna[14:last_value] # getting sequence from 15th value until the last value\n",
    "    output.write(processed_dna) # printing the sequence in the output file\n",
    "    print(\"processed sequence with length \" + str(len(processed_dna))) # print the length of each processed sequence on screen\n",
    "output.close() # closing the new output file after closing the for loop."
   ]
  },
  {
   "cell_type": "code",
   "execution_count": 35,
   "metadata": {
    "collapsed": false
   },
   "outputs": [
    {
     "name": "stdout",
     "output_type": "stream",
     "text": [
      "sequence is :CGTACCGTCGACGATGCTACGATCGTCGATCGTAGTCGATCATCGATCGATCG\n",
      "sequence is :CGTACCGTCGACGATGCTACGATCGTCGATCGTAGTCGATCATCGATCGATCGCGATCGATCGATATCGATCGATATCATCGATGCATCGATCATCGATCGATCGATCGATCGA\n",
      "sequence is :CGTACCGTCGACGATGCTACGATCGTCGATCGTAGTCGATCATCGATCGATCGCGATCGATCGATATCGATCGATATCATCGATGCATCGATCATCGATCGATCGATCGATCGACGATCGATCGATCGTAGCTAGCTAGCTAGATCGATCATCATCGTAGCTAGCTCGACTAGCTACGTACGATCGATGCATCGATCGTA\n",
      "sequence is :CGTACCGTCGACGATGCTACGATCGTCGATCGTAGTCGATCATCGATCGATCGCGATCGATCGATATCGATCGATATCATCGATGCATCGATCATCGATCGATCGATCGATCGACGATCGATCGATCGTAGCTAGCTAGCTAGATCGATCATCATCGTAGCTAGCTCGACTAGCTACGTACGATCGATGCATCGATCGTACGATCGATCGATCGATCGATCGATCGATCGATCGATCGATCGTAGCTAGCTACGATCG\n"
     ]
    }
   ],
   "source": [
    "# Multiple exons from genomic DNA\n",
    "\n",
    "dna = open(\"genomic_dna(1).txt\").read() # file with genomic DNA, saving contents as \"dna\"\n",
    "exons = open(\"exons.txt\") # exon locations\n",
    "seq = \"\" # assigning empty string to coding_seq so that the exon will be added in this variable at the end of the loop\n",
    "for line in exons:\n",
    "    positions = line.split(\",\") # separating exon locations\n",
    "    start = int(positions[0]) # defining exon locations as integers with int function\n",
    "    stop = int(positions[1]) # defining exon locations as integers with int function\n",
    "    exon = dna[start:stop] # cutting exon according to start and stop positions saved above\n",
    "    coding_seq = coding_seq + exon\n",
    "    print(\"sequence is :\" + coding_seq)\n",
    "\n",
    "# saving the sequence to output file\n",
    "output = open(\"coding_seq.txt\", \"w\")\n",
    "output.write(coding_seq)\n",
    "output.close()\n",
    "    \n",
    "# for dna in file:\n",
    "    #print(dna) \n",
    "# code to make sure the genomic dna is saved under dna"
   ]
  },
  {
   "cell_type": "code",
   "execution_count": null,
   "metadata": {
    "collapsed": true
   },
   "outputs": [],
   "source": []
  }
 ],
 "metadata": {
  "anaconda-cloud": {},
  "kernelspec": {
   "display_name": "Python [conda root]",
   "language": "python",
   "name": "conda-root-py"
  },
  "language_info": {
   "codemirror_mode": {
    "name": "ipython",
    "version": 3
   },
   "file_extension": ".py",
   "mimetype": "text/x-python",
   "name": "python",
   "nbconvert_exporter": "python",
   "pygments_lexer": "ipython3",
   "version": "3.5.2"
  }
 },
 "nbformat": 4,
 "nbformat_minor": 2
}
