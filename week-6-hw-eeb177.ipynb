{
 "cells": [
  {
   "cell_type": "markdown",
   "metadata": {},
   "source": [
    "## Part 1"
   ]
  },
  {
   "cell_type": "markdown",
   "metadata": {},
   "source": [
    "![badge1](https://github.com/Krishna-K2609/homework/blob/master/badges/badge1.png?raw=true)\n",
    "![badge2](https://github.com/Krishna-K2609/homework/blob/master/badges/badge2.png?raw=true)\n",
    "![badge3](https://github.com/Krishna-K2609/homework/blob/master/badges/badge3.png?raw=true)\n",
    "![badge4](https://github.com/Krishna-K2609/homework/blob/master/badges/badge4.png?raw=true)\n",
    "![badge5](https://github.com/Krishna-K2609/homework/blob/master/badges/badge5.png?raw=true)\n",
    "![badge6](https://github.com/Krishna-K2609/homework/blob/master/badges/badge6.png?raw=true)\n",
    "![badge7](https://github.com/Krishna-K2609/homework/blob/master/badges/badge7.png?raw=true)\n",
    "![badge8](https://github.com/Krishna-K2609/homework/blob/master/badges/badge8.png?raw=true)\n"
   ]
  },
  {
   "cell_type": "markdown",
   "metadata": {},
   "source": [
    "## Part 2"
   ]
  },
  {
   "cell_type": "markdown",
   "metadata": {},
   "source": [
    "** The objective of this assignment is to write a program that will translate a DNA sequence into protein.**\n",
    "\n",
    "The dictionary gencode is \n",
    "```\n",
    "gencode = {\n",
    "    'ATA':'I', 'ATC':'I', 'ATT':'I', 'ATG':'M',\n",
    "    'ACA':'T', 'ACC':'T', 'ACG':'T', 'ACT':'T',\n",
    "    'AAC':'N', 'AAT':'N', 'AAA':'K', 'AAG':'K',\n",
    "    'AGC':'S', 'AGT':'S', 'AGA':'R', 'AGG':'R',\n",
    "    'CTA':'L', 'CTC':'L', 'CTG':'L', 'CTT':'L',\n",
    "    'CCA':'P', 'CCC':'P', 'CCG':'P', 'CCT':'P',\n",
    "    'CAC':'H', 'CAT':'H', 'CAA':'Q', 'CAG':'Q',\n",
    "    'CGA':'R', 'CGC':'R', 'CGG':'R', 'CGT':'R',\n",
    "    'GTA':'V', 'GTC':'V', 'GTG':'V', 'GTT':'V',\n",
    "    'GCA':'A', 'GCC':'A', 'GCG':'A', 'GCT':'A',\n",
    "    'GAC':'D', 'GAT':'D', 'GAA':'E', 'GAG':'E',\n",
    "    'GGA':'G', 'GGC':'G', 'GGG':'G', 'GGT':'G',\n",
    "    'TCA':'S', 'TCC':'S', 'TCG':'S', 'TCT':'S',\n",
    "    'TTC':'F', 'TTT':'F', 'TTA':'L', 'TTG':'L',\n",
    "    'TAC':'Y', 'TAT':'Y', 'TAA':'_', 'TAG':'_',\n",
    "    'TGC':'C', 'TGT':'C', 'TGA':'_', 'TGG':'W'}\n",
    "```"
   ]
  },
  {
   "cell_type": "code",
   "execution_count": 7,
   "metadata": {
    "collapsed": true
   },
   "outputs": [],
   "source": [
    "gencode = {\n",
    "    'ATA':'I', 'ATC':'I', 'ATT':'I', 'ATG':'M',\n",
    "    'ACA':'T', 'ACC':'T', 'ACG':'T', 'ACT':'T',\n",
    "    'AAC':'N', 'AAT':'N', 'AAA':'K', 'AAG':'K',\n",
    "    'AGC':'S', 'AGT':'S', 'AGA':'R', 'AGG':'R',\n",
    "    'CTA':'L', 'CTC':'L', 'CTG':'L', 'CTT':'L',\n",
    "    'CCA':'P', 'CCC':'P', 'CCG':'P', 'CCT':'P',\n",
    "    'CAC':'H', 'CAT':'H', 'CAA':'Q', 'CAG':'Q',\n",
    "    'CGA':'R', 'CGC':'R', 'CGG':'R', 'CGT':'R',\n",
    "    'GTA':'V', 'GTC':'V', 'GTG':'V', 'GTT':'V',\n",
    "    'GCA':'A', 'GCC':'A', 'GCG':'A', 'GCT':'A',\n",
    "    'GAC':'D', 'GAT':'D', 'GAA':'E', 'GAG':'E',\n",
    "    'GGA':'G', 'GGC':'G', 'GGG':'G', 'GGT':'G',\n",
    "    'TCA':'S', 'TCC':'S', 'TCG':'S', 'TCT':'S',\n",
    "    'TTC':'F', 'TTT':'F', 'TTA':'L', 'TTG':'L',\n",
    "    'TAC':'Y', 'TAT':'Y', 'TAA':'_', 'TAG':'_',\n",
    "    'TGC':'C', 'TGT':'C', 'TGA':'_', 'TGG':'W'}"
   ]
  },
  {
   "cell_type": "markdown",
   "metadata": {},
   "source": [
    "**Step 1: Split DNA sequence into codons.**\n",
    "\n",
    "For this, we will have to create a `for loop` that will split the sequence for every three letters using a loop of the kind:\n",
    "\n",
    "```\n",
    "dna is a variable \n",
    "for loop:\n",
    "        codon = dna[n:n+3]\n",
    "        print \"codon is ...\"\n",
    "```"
   ]
  },
  {
   "cell_type": "code",
   "execution_count": 8,
   "metadata": {
    "collapsed": false
   },
   "outputs": [
    {
     "name": "stdout",
     "output_type": "stream",
     "text": [
      "codon is ATA\n",
      "codon is ATC\n",
      "codon is ATT\n",
      "codon is ATG\n"
     ]
    }
   ],
   "source": [
    "dna = \"ATAATCATTATG\"\n",
    "for n in range(0, 10, 3): # this only works for a sequence with 12 characters. for a sequence of undefined length we will need a different code.\n",
    "        codon = dna[n:n+3]\n",
    "        print(\"codon is \" + codon)"
   ]
  },
  {
   "cell_type": "markdown",
   "metadata": {},
   "source": [
    "** Step 2: Identify amino acid for each codon.**\n",
    "\n",
    "For this, we need to identify values associated with each key using one of two options:\n",
    "\n",
    "```\n",
    "print(gencode['ATA'])\n",
    "```\n",
    "\n",
    "or the `get` function\n",
    "\n",
    "```\n",
    "print(gencode.get('ATA'))\n",
    "```\n",
    "\n",
    "**Step 2a: Link amino acid to codon in ```for``` loop.**\n",
    "\n",
    "and link the amino acid to the sequence\n",
    "\n",
    "```\n",
    "dna is a variable with 12 characters\n",
    "for loop:\n",
    "        codon = dna[i:i+3]\n",
    "        print \"codon is ...\"\n",
    "        aa = gencode.get(codon)\n",
    "        print \"amino acid is aa\"\n",
    "```"
   ]
  },
  {
   "cell_type": "code",
   "execution_count": 9,
   "metadata": {
    "collapsed": false,
    "scrolled": false
   },
   "outputs": [
    {
     "name": "stdout",
     "output_type": "stream",
     "text": [
      "I\n"
     ]
    }
   ],
   "source": [
    "print(gencode['ATA']) \n",
    "\n",
    "# checking that amino acids are identified. gencode refers to the dictionary we defined earlier based on the .txt provided."
   ]
  },
  {
   "cell_type": "markdown",
   "metadata": {},
   "source": [
    "**Then we put it all in a function called translate_dna that takes an argument \"dna\".**"
   ]
  },
  {
   "cell_type": "code",
   "execution_count": 10,
   "metadata": {
    "collapsed": false
   },
   "outputs": [
    {
     "name": "stdout",
     "output_type": "stream",
     "text": [
      "ITIS\n"
     ]
    }
   ],
   "source": [
    "def translate_dna(dna):\n",
    "    last_codon = len(dna) - 2 # defining length of argument that is not fixed previously\n",
    "    protein = \"\" # creating empty placeholder for proteins to populate\n",
    "    for i in range(0, last_codon, 3):\n",
    "        codon = dna[i:i+3]\n",
    "        aa = gencode.get(codon, 'X')\n",
    "        protein = protein + aa\n",
    "    return protein\n",
    "\n",
    "print(translate_dna(\"ATAACGATCTCG\")) # checking if the code works\n",
    "\n",
    "# it is (working)!"
   ]
  },
  {
   "cell_type": "markdown",
   "metadata": {},
   "source": [
    "## Part 3"
   ]
  },
  {
   "cell_type": "markdown",
   "metadata": {},
   "source": [
    "** Question 1**"
   ]
  },
  {
   "cell_type": "code",
   "execution_count": 16,
   "metadata": {
    "collapsed": false
   },
   "outputs": [
    {
     "data": {
      "text/plain": [
       "[('A', 'a'),\n",
       " ('A', 'A'),\n",
       " ('A', 'A'),\n",
       " ('A', 'A'),\n",
       " ('a', 'A'),\n",
       " ('A', 'a'),\n",
       " ('A', 'a'),\n",
       " ('a', 'A'),\n",
       " ('A', 'A'),\n",
       " ('a', 'A')]"
      ]
     },
     "execution_count": 16,
     "metadata": {},
     "output_type": "execute_result"
    }
   ],
   "source": [
    "import scipy\n",
    "\n",
    "def build_population(N,p):\n",
    "    # population consists of N individuals. each individual has 2 chromosomes containing alleles A or a with\n",
    "    # probability p or 1-p respectively.\n",
    "    population = [] # empty list\n",
    "    for i in range(N):\n",
    "        allele1 = \"A\"\n",
    "        if scipy.random.rand() > p:\n",
    "            allele1 = \"a\"\n",
    "        allele2 = \"A\"\n",
    "        if scipy.random.rand() > p:\n",
    "            allele2 = \"a\"\n",
    "        population.append((allele1, allele2))\n",
    "    return population\n",
    "\n",
    "build_population(10, 0.7)"
   ]
  },
  {
   "cell_type": "code",
   "execution_count": 20,
   "metadata": {
    "collapsed": false
   },
   "outputs": [
    {
     "data": {
      "text/plain": [
       "[('a', 'a'), ('A', 'A'), ('a', 'a'), ('A', 'A'), ('a', 'a'), ('a', 'A')]"
      ]
     },
     "execution_count": 20,
     "metadata": {},
     "output_type": "execute_result"
    }
   ],
   "source": [
    "def compute_frequencies(population):\n",
    "    # This function computes genotypic frequencies, which are needd to determine whether an allele has gone to fixation.\n",
    "    AA = population.count((\"A\", \"A\"))\n",
    "    Aa = population.count((\"A\", \"a\"))\n",
    "    aA = population.count((\"a\", \"A\"))\n",
    "    aa = population.count((\"a\",\"a\"))\n",
    "    return({\"AA\": AA, 'aa': aa, \"Aa\": Aa, \"aA\": aA})\n",
    "\n",
    "my_pop = build_population(6, 0.5)\n",
    "my_pop"
   ]
  },
  {
   "cell_type": "code",
   "execution_count": 21,
   "metadata": {
    "collapsed": false
   },
   "outputs": [
    {
     "data": {
      "text/plain": [
       "[('a', 'a'), ('a', 'A'), ('A', 'a'), ('a', 'a'), ('a', 'a'), ('a', 'A')]"
      ]
     },
     "execution_count": 21,
     "metadata": {},
     "output_type": "execute_result"
    }
   ],
   "source": [
    "def reproduce_pop(population):\n",
    "    # this function takes the current population and produces the next generation\n",
    "    new_gen = []\n",
    "    N = len(population)\n",
    "    for i in range(N):\n",
    "        dad = scipy.random.randint(N) # random integer between 0 and N - 1\n",
    "        mom = scipy.random.randint(N) # ditto\n",
    "        chr_mom = scipy.random.randint(2) # define which chromosomes come from mother's side\n",
    "        offspring = (population[mom][chr_mom], population[dad][1-chr_mom])\n",
    "        new_gen.append(offspring)\n",
    "    return new_gen\n",
    "\n",
    "reproduce_pop(my_pop)"
   ]
  },
  {
   "cell_type": "code",
   "execution_count": 1,
   "metadata": {
    "collapsed": false
   },
   "outputs": [],
   "source": [
    "# import drift\n",
    "\n",
    "# def simulate_drift(N, p):\n",
    "#     my_pop = drift.build_population(N, p)\n",
    "#     fixation = False\n",
    "#     num_generations = 0\n",
    "#     while fixation == False:\n",
    "#         if genotype_counts[\"AA\"] == N or genotype_counts[\"aa\"] == N:\n",
    "#             print(\"An allele reached fixation at generation \", num_generations)\n",
    "#             print(\"The genotype counts are\")\n",
    "#             print(genotype_counts)\n",
    "#             fixation == True\n",
    "#             break\n",
    "#         my_pop = drift.reproduce_population(my_pop)\n",
    "#         num_generations = num_generations + 1\n",
    "\n",
    "# simulate_drift(100, 0.5)"
   ]
  },
  {
   "cell_type": "markdown",
   "metadata": {},
   "source": [
    "** Question 2. Write a function that takes Taxon and returns the mean value of r **"
   ]
  },
  {
   "cell_type": "code",
   "execution_count": 19,
   "metadata": {
    "collapsed": false,
    "scrolled": false
   },
   "outputs": [
    {
     "data": {
      "text/plain": [
       "0.18552822878124267"
      ]
     },
     "execution_count": 19,
     "metadata": {},
     "output_type": "execute_result"
    }
   ],
   "source": [
    "import csv #importing modules\n",
    "\n",
    "# clean file using command sed 's/\\s/,/g' Jiang2013_data.csv|sed 's/\\,,/,/g' > temp_jiang2.csv in the shell\n",
    "\n",
    "\n",
    "# read file and create a dictionary\n",
    "with open(\"/home/eeb177-student/Desktop/eeb177/homework/temp_jiang2.csv\", \"r\") as jiang:\n",
    "    data = csv.DictReader(jiang, delimiter = \",\") # create a dictionary\n",
    "    taxa = []\n",
    "    r_values = []\n",
    "    for row in data:\n",
    "        taxa.append(row[\"Taxon\"])\n",
    "        r_values.append(float(row[\"r\"]))\n",
    "        \n",
    "def get_mean_r(names, values, target_taxon = \"Amphibian\"):\n",
    "    n = len(names)\n",
    "    mean_r = 0.0\n",
    "    sample_size = 0.00001\n",
    "    for i in range(n):\n",
    "        if names[i] == target_taxon:\n",
    "            mean_r = mean_r + values[i]\n",
    "            sample_size = sample_size + 1\n",
    "    return mean_r / sample_size\n",
    "\n",
    "get_mean_r(taxa, r_values, target_taxon = \"Amphibian\") # check that it works for Amphibians"
   ]
  },
  {
   "cell_type": "markdown",
   "metadata": {},
   "source": [
    "**Question 3**"
   ]
  },
  {
   "cell_type": "code",
   "execution_count": 27,
   "metadata": {
    "collapsed": false
   },
   "outputs": [
    {
     "data": {
      "text/plain": [
       "['Amphibian', 0.186, 2e-05]"
      ]
     },
     "execution_count": 27,
     "metadata": {},
     "output_type": "execute_result"
    }
   ],
   "source": [
    "import scipy\n",
    "def get_p_value_for_mean_r(names, values, target_taxon = 'Fish', num_simulations = 1000):\n",
    "    observed = get_mean_r(names, values, target_taxon)\n",
    "    rnd_names = names[:]\n",
    "    p_value = 0.0\n",
    "    for i in range(num_simulations):\n",
    "        scipy.random.shuffle(rnd_names)\n",
    "        temp = get_mean_r(rnd_names, values, target_taxon)\n",
    "    if temp >= observed:\n",
    "        p_value = p_value + 1.0\n",
    "        p_value = p_value / num_simulations\n",
    "    return [target_taxon, round(observed, 3), round(p_value, 5)]\n",
    "\n",
    "get_p_value_for_mean_r(taxa, r_values, \"Amphibian\", 50000)"
   ]
  },
  {
   "cell_type": "markdown",
   "metadata": {},
   "source": [
    "** Question 4**"
   ]
  },
  {
   "cell_type": "code",
   "execution_count": 26,
   "metadata": {
    "collapsed": false
   },
   "outputs": [
    {
     "name": "stdout",
     "output_type": "stream",
     "text": [
      "['Chelicerate', 0.491, 0.0]\n",
      "['Insect', 0.197, 2e-05]\n",
      "['Annelids', 0.2, 0.0]\n",
      "['Crustacean', 0.403, 0.0]\n",
      "['Gastropod', 0.401, 0.0]\n",
      "['Protist', 0.614, 0.0]\n",
      "['Reptile', 0.117, 2e-05]\n",
      "['Mammal', 0.009, 0.0]\n",
      "['Amphibian', 0.186, 2e-05]\n",
      "['Fish', 0.397, 0.0]\n",
      "['Bird', 0.132, 2e-05]\n"
     ]
    }
   ],
   "source": [
    "def taxa_list(names):\n",
    "    # list of all taxa\n",
    "    return(set(names))\n",
    "\n",
    "for i in taxa_list(taxa):\n",
    "    print(get_p_value_for_mean_r(taxa, r_values, i, 50000))"
   ]
  },
  {
   "cell_type": "code",
   "execution_count": null,
   "metadata": {
    "collapsed": true
   },
   "outputs": [],
   "source": []
  }
 ],
 "metadata": {
  "anaconda-cloud": {},
  "kernelspec": {
   "display_name": "Python [conda root]",
   "language": "python",
   "name": "conda-root-py"
  },
  "language_info": {
   "codemirror_mode": {
    "name": "ipython",
    "version": 3
   },
   "file_extension": ".py",
   "mimetype": "text/x-python",
   "name": "python",
   "nbconvert_exporter": "python",
   "pygments_lexer": "ipython3",
   "version": "3.5.2"
  }
 },
 "nbformat": 4,
 "nbformat_minor": 2
}
