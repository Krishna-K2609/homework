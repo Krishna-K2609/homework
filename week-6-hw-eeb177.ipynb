{
 "cells": [
  {
   "cell_type": "markdown",
   "metadata": {},
   "source": [
    "## Part 1"
   ]
  },
  {
   "cell_type": "markdown",
   "metadata": {},
   "source": [
    "![badge1](https://github.com/Krishna-K2609/homework/blob/master/badges/badge1.png?raw=true)\n",
    "![badge2](https://github.com/Krishna-K2609/homework/blob/master/badges/badge2.png?raw=true)\n",
    "![badge3](https://github.com/Krishna-K2609/homework/blob/master/badges/badge3.png?raw=true)\n",
    "![badge4](https://github.com/Krishna-K2609/homework/blob/master/badges/badge4.png?raw=true)\n",
    "![badge5](https://github.com/Krishna-K2609/homework/blob/master/badges/badge5.png?raw=true)\n",
    "![badge6](https://github.com/Krishna-K2609/homework/blob/master/badges/badge6.png?raw=true)\n",
    "![badge7](https://github.com/Krishna-K2609/homework/blob/master/badges/badge7.png?raw=true)\n",
    "![badge8](https://github.com/Krishna-K2609/homework/blob/master/badges/badge8.png?raw=true)\n"
   ]
  },
  {
   "cell_type": "markdown",
   "metadata": {},
   "source": [
    "## Part 2"
   ]
  },
  {
   "cell_type": "markdown",
   "metadata": {},
   "source": [
    "** The objective of this assignment is to write a program that will translate a DNA sequence into protein.**\n",
    "\n",
    "The dictionary gencode is \n",
    "```\n",
    "gencode = {\n",
    "    'ATA':'I', 'ATC':'I', 'ATT':'I', 'ATG':'M',\n",
    "    'ACA':'T', 'ACC':'T', 'ACG':'T', 'ACT':'T',\n",
    "    'AAC':'N', 'AAT':'N', 'AAA':'K', 'AAG':'K',\n",
    "    'AGC':'S', 'AGT':'S', 'AGA':'R', 'AGG':'R',\n",
    "    'CTA':'L', 'CTC':'L', 'CTG':'L', 'CTT':'L',\n",
    "    'CCA':'P', 'CCC':'P', 'CCG':'P', 'CCT':'P',\n",
    "    'CAC':'H', 'CAT':'H', 'CAA':'Q', 'CAG':'Q',\n",
    "    'CGA':'R', 'CGC':'R', 'CGG':'R', 'CGT':'R',\n",
    "    'GTA':'V', 'GTC':'V', 'GTG':'V', 'GTT':'V',\n",
    "    'GCA':'A', 'GCC':'A', 'GCG':'A', 'GCT':'A',\n",
    "    'GAC':'D', 'GAT':'D', 'GAA':'E', 'GAG':'E',\n",
    "    'GGA':'G', 'GGC':'G', 'GGG':'G', 'GGT':'G',\n",
    "    'TCA':'S', 'TCC':'S', 'TCG':'S', 'TCT':'S',\n",
    "    'TTC':'F', 'TTT':'F', 'TTA':'L', 'TTG':'L',\n",
    "    'TAC':'Y', 'TAT':'Y', 'TAA':'_', 'TAG':'_',\n",
    "    'TGC':'C', 'TGT':'C', 'TGA':'_', 'TGG':'W'}\n",
    "```"
   ]
  },
  {
   "cell_type": "code",
   "execution_count": 8,
   "metadata": {
    "collapsed": true
   },
   "outputs": [],
   "source": [
    "gencode = {\n",
    "    'ATA':'I', 'ATC':'I', 'ATT':'I', 'ATG':'M',\n",
    "    'ACA':'T', 'ACC':'T', 'ACG':'T', 'ACT':'T',\n",
    "    'AAC':'N', 'AAT':'N', 'AAA':'K', 'AAG':'K',\n",
    "    'AGC':'S', 'AGT':'S', 'AGA':'R', 'AGG':'R',\n",
    "    'CTA':'L', 'CTC':'L', 'CTG':'L', 'CTT':'L',\n",
    "    'CCA':'P', 'CCC':'P', 'CCG':'P', 'CCT':'P',\n",
    "    'CAC':'H', 'CAT':'H', 'CAA':'Q', 'CAG':'Q',\n",
    "    'CGA':'R', 'CGC':'R', 'CGG':'R', 'CGT':'R',\n",
    "    'GTA':'V', 'GTC':'V', 'GTG':'V', 'GTT':'V',\n",
    "    'GCA':'A', 'GCC':'A', 'GCG':'A', 'GCT':'A',\n",
    "    'GAC':'D', 'GAT':'D', 'GAA':'E', 'GAG':'E',\n",
    "    'GGA':'G', 'GGC':'G', 'GGG':'G', 'GGT':'G',\n",
    "    'TCA':'S', 'TCC':'S', 'TCG':'S', 'TCT':'S',\n",
    "    'TTC':'F', 'TTT':'F', 'TTA':'L', 'TTG':'L',\n",
    "    'TAC':'Y', 'TAT':'Y', 'TAA':'_', 'TAG':'_',\n",
    "    'TGC':'C', 'TGT':'C', 'TGA':'_', 'TGG':'W'}"
   ]
  },
  {
   "cell_type": "markdown",
   "metadata": {},
   "source": [
    "**Step 1: Split DNA sequence into codons.**\n",
    "\n",
    "For this, we will have to create a loop that will split the sequence for every three letters using a loop of the kind:\n",
    "\n",
    "```\n",
    "dna is a variable with 12 characters\n",
    "for loop:\n",
    "        codon = dna[i:i+3]\n",
    "        print \"codon is ...\"\n",
    "```"
   ]
  },
  {
   "cell_type": "code",
   "execution_count": 9,
   "metadata": {
    "collapsed": false
   },
   "outputs": [
    {
     "name": "stdout",
     "output_type": "stream",
     "text": [
      "codon is ATA\n",
      "codon is ATC\n",
      "codon is ATT\n",
      "codon is ATG\n"
     ]
    }
   ],
   "source": [
    "dna = \"ATAATCATTATG\"\n",
    "for i in range(0, 10, 3):\n",
    "        codon = dna[i:i+3]\n",
    "        print(\"codon is \" + codon)"
   ]
  },
  {
   "cell_type": "markdown",
   "metadata": {},
   "source": [
    "** Step 2: Identify amino acid for each codon.**\n",
    "\n",
    "For this, we need to identify values associated with each key using one of two options:\n",
    "\n",
    "```\n",
    "print(gencode['ATA'])\n",
    "```\n",
    "\n",
    "or the get function\n",
    "\n",
    "```\n",
    "print(gencode.get('ATA'))\n",
    "```\n",
    "\n",
    "**Step 2a: Link amino acid to codon in ```for``` loop.**\n",
    "\n",
    "and link the amino acid to the sequence\n",
    "\n",
    "```\n",
    "dna is a variable with 12 characters\n",
    "for loop:\n",
    "        codon = dna[i:i+3]\n",
    "        print \"codon is ...\"\n",
    "        aa = gencode.get(codon)\n",
    "        print \"amino acid is aa\"\n",
    "```"
   ]
  },
  {
   "cell_type": "code",
   "execution_count": 11,
   "metadata": {
    "collapsed": false,
    "scrolled": true
   },
   "outputs": [
    {
     "name": "stdout",
     "output_type": "stream",
     "text": [
      "I\n"
     ]
    }
   ],
   "source": [
    "print(gencode['ATA'])\n",
    "\n",
    "# checking that amino acids are identified"
   ]
  },
  {
   "cell_type": "markdown",
   "metadata": {},
   "source": [
    "**Then we put it all in a function called translate_dna that takes an argument dna.**"
   ]
  },
  {
   "cell_type": "code",
   "execution_count": 14,
   "metadata": {
    "collapsed": false
   },
   "outputs": [
    {
     "name": "stdout",
     "output_type": "stream",
     "text": [
      "ISIT\n"
     ]
    }
   ],
   "source": [
    "def translate_dna(dna):\n",
    "    last_codon = len(dna) - 2 # defining length of argument that is not fixed previously\n",
    "    protein = \"\" # creating empty placeholder for proteins to populate\n",
    "    for i in range(0, last_codon, 3):\n",
    "        codon = dna[i:i+3]\n",
    "        aa = gencode.get(codon, 'X')\n",
    "        protein = protein + aa\n",
    "    return protein\n",
    "\n",
    "print(translate_dna(\"ATATCGATCACG\")) # checking if the code works\n",
    "\n",
    "# it works!"
   ]
  },
  {
   "cell_type": "code",
   "execution_count": null,
   "metadata": {
    "collapsed": true
   },
   "outputs": [],
   "source": []
  },
  {
   "cell_type": "code",
   "execution_count": null,
   "metadata": {
    "collapsed": true
   },
   "outputs": [],
   "source": []
  },
  {
   "cell_type": "code",
   "execution_count": null,
   "metadata": {
    "collapsed": true
   },
   "outputs": [],
   "source": []
  }
 ],
 "metadata": {
  "anaconda-cloud": {},
  "kernelspec": {
   "display_name": "Python [conda root]",
   "language": "python",
   "name": "conda-root-py"
  },
  "language_info": {
   "codemirror_mode": {
    "name": "ipython",
    "version": 3
   },
   "file_extension": ".py",
   "mimetype": "text/x-python",
   "name": "python",
   "nbconvert_exporter": "python",
   "pygments_lexer": "ipython3",
   "version": "3.5.2"
  }
 },
 "nbformat": 4,
 "nbformat_minor": 2
}
