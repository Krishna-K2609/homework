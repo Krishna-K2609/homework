{
 "cells": [
  {
   "cell_type": "markdown",
   "metadata": {},
   "source": [
    "## Part 1"
   ]
  },
  {
   "cell_type": "markdown",
   "metadata": {},
   "source": [
    "![badge1](/home/eeb177-student/Desktop/eeb177/homework/badge1.png)\n",
    "![badge2](/home/eeb177-student/Desktop/eeb177/homework/badge2.png)\n",
    "![badge3](/home/eeb177-student/Desktop/eeb177/homework/badge3.png)\n",
    "![badge4](/home/eeb177-student/Desktop/eeb177/homework/badge4.png)\n",
    "![badge5](/home/eeb177-student/Desktop/eeb177/homework/badge5.png)\n",
    "![badge6](/home/eeb177-student/Desktop/eeb177/homework/badge6.png)\n",
    "![badge7](/home/eeb177-student/Desktop/eeb177/homework/badge7.png)\n",
    "![badge8](/home/eeb177-student/Desktop/eeb177/homework/badge8.png)"
   ]
  },
  {
   "cell_type": "markdown",
   "metadata": {},
   "source": [
    "## Part 2"
   ]
  },
  {
   "cell_type": "code",
   "execution_count": null,
   "metadata": {
    "collapsed": true
   },
   "outputs": [],
   "source": []
  }
 ],
 "metadata": {
  "anaconda-cloud": {},
  "kernelspec": {
   "display_name": "Python [conda root]",
   "language": "python",
   "name": "conda-root-py"
  },
  "language_info": {
   "codemirror_mode": {
    "name": "ipython",
    "version": 3
   },
   "file_extension": ".py",
   "mimetype": "text/x-python",
   "name": "python",
   "nbconvert_exporter": "python",
   "pygments_lexer": "ipython3",
   "version": "3.5.2"
  }
 },
 "nbformat": 4,
 "nbformat_minor": 2
}
