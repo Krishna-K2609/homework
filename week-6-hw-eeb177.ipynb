{
 "cells": [
  {
   "cell_type": "markdown",
   "metadata": {},
   "source": [
    "## Part 1"
   ]
  },
  {
   "cell_type": "markdown",
   "metadata": {},
   "source": [
    "![badge1](https://photos-3.dropbox.com/t/2/AADYRdn7VW1x41VeBJMsdif93UBgZti6uXhwTExW3k4ZnQ/12/28742051/png/32x32/1/_/1/2/badge1.png/ENPc0BUY0O0BIAIoAg/94kuWT8tFQfz6GDcf68WeadLwPowDehpU9UwzDwjDbc?size=1280x960&size_mode=3)\n",
    "![badge2](https://photos-1.dropbox.com/t/2/AAD_HXp48U2xcP1wZq2bhIBALz3Nerdzgm1mssSGN-sAGA/12/28742051/png/32x32/1/_/1/2/badge2.png/ENPc0BUY0e0BIAIoAg/irXMlmM4A3YiYHqjWsJIN16QKqgIv35_QfoFKDfrklk?size=1280x960&size_mode=3)\n",
    "![badge3](https://photos-5.dropbox.com/t/2/AADHwH7iwjpxxtiRAg64t-OeO838ZUWWoD1djfx46sPo9w/12/28742051/png/32x32/1/_/1/2/badge3.png/ENPc0BUY0u0BIAIoAg/foM-A-iuG2znf1_BbG8v4diI6A73dOU6Ju5pE8tNuog?size=1280x960&size_mode=3)\n",
    "![badge4](https://photos-5.dropbox.com/t/2/AADOByikr5SOJkBIYQSO-9AGLXXBpu3kBAh1X7I6hDXOAg/12/28742051/png/32x32/1/_/1/2/badge4.png/ENPc0BUY0-0BIAIoAg/Ooa1uW8Ce56vxmm-4ro682rbcAc43LJWKR14NrVqbR0?size=1280x960&size_mode=3)\n",
    "![badge5](https://photos-3.dropbox.com/t/2/AAARDnvHurs2Hm4GEXc92roPqR_vA4yTmawL7-tAzoOMKA/12/28742051/png/32x32/1/_/1/2/badge5.png/ENPc0BUY1O0BIAIoAg/2QAYAA_An2r6bij2ule3y7envKjNrJBtvhgspMxI-wA?size=1280x960&size_mode=3)\n",
    "![badge6](/home/eeb177-student/Desktop/eeb177/homework/badge6.png)\n",
    "![badge7](/home/eeb177-student/Desktop/eeb177/homework/badge7.png)\n",
    "![badge8](/home/eeb177-student/Desktop/eeb177/homework/badge8.png)\n"
   ]
  },
  {
   "cell_type": "markdown",
   "metadata": {},
   "source": [
    "## Part 2"
   ]
  },
  {
   "cell_type": "code",
   "execution_count": null,
   "metadata": {
    "collapsed": true
   },
   "outputs": [],
   "source": []
  }
 ],
 "metadata": {
  "anaconda-cloud": {},
  "kernelspec": {
   "display_name": "Python [conda root]",
   "language": "python",
   "name": "conda-root-py"
  },
  "language_info": {
   "codemirror_mode": {
    "name": "ipython",
    "version": 3
   },
   "file_extension": ".py",
   "mimetype": "text/x-python",
   "name": "python",
   "nbconvert_exporter": "python",
   "pygments_lexer": "ipython3",
   "version": "3.5.2"
  }
 },
 "nbformat": 4,
 "nbformat_minor": 2
}
